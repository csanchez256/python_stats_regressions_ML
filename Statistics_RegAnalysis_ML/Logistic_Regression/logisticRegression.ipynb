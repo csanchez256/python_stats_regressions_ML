{
 "cells": [
  {
   "cell_type": "code",
   "execution_count": 5,
   "metadata": {},
   "outputs": [
    {
     "ename": "ModuleNotFoundError",
     "evalue": "No module named 'sklearn'",
     "output_type": "error",
     "traceback": [
      "\u001b[1;31m---------------------------------------------------------------------------\u001b[0m",
      "\u001b[1;31mModuleNotFoundError\u001b[0m                       Traceback (most recent call last)",
      "Cell \u001b[1;32mIn[5], line 17\u001b[0m\n\u001b[0;32m     13\u001b[0m activity\u001b[38;5;241m.\u001b[39mhead()\n\u001b[0;32m     15\u001b[0m \u001b[38;5;66;03m# Construct binomial logistic regression model\u001b[39;00m\n\u001b[0;32m     16\u001b[0m \u001b[38;5;66;03m# Load in sci-kit learn functions for constructing logistic regression\u001b[39;00m\n\u001b[1;32m---> 17\u001b[0m \u001b[38;5;28;01mfrom\u001b[39;00m \u001b[38;5;21;01msklearn\u001b[39;00m\u001b[38;5;21;01m.\u001b[39;00m\u001b[38;5;21;01mmodel_selection\u001b[39;00m \u001b[38;5;28;01mimport\u001b[39;00m train_test_split\n\u001b[0;32m     18\u001b[0m \u001b[38;5;28;01mfrom\u001b[39;00m \u001b[38;5;21;01msklearn\u001b[39;00m\u001b[38;5;21;01m.\u001b[39;00m\u001b[38;5;21;01mlinear_model\u001b[39;00m \u001b[38;5;28;01mimport\u001b[39;00m LogisticRegression\n\u001b[0;32m     20\u001b[0m \u001b[38;5;66;03m# Save X and Y data into variables\u001b[39;00m\n",
      "\u001b[1;31mModuleNotFoundError\u001b[0m: No module named 'sklearn'"
     ]
    }
   ],
   "source": [
    "# Import pandas and seaborn packages\n",
    "\n",
    "import pandas as pd\n",
    "import seaborn as sns\n",
    "\n",
    "# Load in if csv file is in the same folder as notebook\n",
    "activity = pd.read_csv(\"C:\\\\Users\\\\css7c\\\\OneDrive\\\\Desktop\\\\Python_Programs\\\\Statistics_RegAnalysis_ML\\\\Logistic_Regression\\\\activity.csv\")\n",
    "\n",
    "# Get summary statistics about the dataset\n",
    "activity.describe()\n",
    "\n",
    "# Examine the dataset\n",
    "activity.head()\n",
    "\n",
    "# Construct binomial logistic regression model\n",
    "# Load in sci-kit learn functions for constructing logistic regression\n",
    "from sklearn.model_selection import train_test_split\n",
    "from sklearn.linear_model import LogisticRegression\n",
    "\n",
    "# Save X and Y data into variables\n",
    "x = activity[[\"Acc (vertical)\"]]\n",
    "y = activity[[\"LyingDown\"]]\n",
    "\n",
    "# Split dataset into training and holdout datasets\n",
    "x_train, x_test, y_train, y_test = train_test_split(x,y, test_size=0.3, random_state=42)\n",
    "\n"
   ]
  }
 ],
 "metadata": {
  "kernelspec": {
   "display_name": "Python 3",
   "language": "python",
   "name": "python3"
  },
  "language_info": {
   "codemirror_mode": {
    "name": "ipython",
    "version": 3
   },
   "file_extension": ".py",
   "mimetype": "text/x-python",
   "name": "python",
   "nbconvert_exporter": "python",
   "pygments_lexer": "ipython3",
   "version": "3.12.3"
  }
 },
 "nbformat": 4,
 "nbformat_minor": 2
}
