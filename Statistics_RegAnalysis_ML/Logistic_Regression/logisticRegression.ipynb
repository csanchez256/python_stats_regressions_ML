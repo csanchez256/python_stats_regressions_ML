{
 "cells": [
  {
   "cell_type": "code",
   "execution_count": 8,
   "metadata": {},
   "outputs": [
    {
     "name": "stderr",
     "output_type": "stream",
     "text": [
      "c:\\Users\\css7c\\AppData\\Local\\Programs\\Python\\Python312\\Lib\\site-packages\\sklearn\\utils\\validation.py:1339: DataConversionWarning: A column-vector y was passed when a 1d array was expected. Please change the shape of y to (n_samples, ), for example using ravel().\n",
      "  y = column_or_1d(y, warn=True)\n"
     ]
    },
    {
     "data": {
      "text/plain": [
       "array([6.10180958])"
      ]
     },
     "execution_count": 8,
     "metadata": {},
     "output_type": "execute_result"
    }
   ],
   "source": [
    "# Import pandas and seaborn packages\n",
    "\n",
    "import pandas as pd\n",
    "import seaborn as sns\n",
    "\n",
    "# Load in if csv file is in the same folder as notebook\n",
    "activity = pd.read_csv(\"C:\\\\Users\\\\css7c\\\\OneDrive\\\\Desktop\\\\Python_Programs\\\\Statistics_RegAnalysis_ML\\\\Logistic_Regression\\\\activity.csv\")\n",
    "\n",
    "# Get summary statistics about the dataset\n",
    "activity.describe()\n",
    "\n",
    "# Examine the dataset\n",
    "activity.head()\n",
    "\n",
    "# Construct binomial logistic regression model\n",
    "# Load in sci-kit learn functions for constructing logistic regression\n",
    "from sklearn.model_selection import train_test_split\n",
    "from sklearn.linear_model import LogisticRegression\n",
    "\n",
    "# Save X and Y data into variables\n",
    "x = activity[[\"Acc (vertical)\"]]\n",
    "y = activity[[\"LyingDown\"]]\n",
    "\n",
    "# Split dataset into training and holdout datasets\n",
    "x_train, x_test, y_train, y_test = train_test_split(x,y, test_size=0.3, random_state=42)\n",
    "\n",
    "# Build classifier and fit the model to the data by using the .fit() function.\n",
    "clf = LogisticRegression().fit(x_train, y_train)\n",
    "\n",
    "# Print the coefficient\n",
    "clf.coef_\n",
    "\n",
    "# Print the intercept\n",
    "clf.intercept_\n",
    "\n",
    "\n"
   ]
  }
 ],
 "metadata": {
  "kernelspec": {
   "display_name": "Python 3",
   "language": "python",
   "name": "python3"
  },
  "language_info": {
   "codemirror_mode": {
    "name": "ipython",
    "version": 3
   },
   "file_extension": ".py",
   "mimetype": "text/x-python",
   "name": "python",
   "nbconvert_exporter": "python",
   "pygments_lexer": "ipython3",
   "version": "3.12.3"
  }
 },
 "nbformat": 4,
 "nbformat_minor": 2
}
