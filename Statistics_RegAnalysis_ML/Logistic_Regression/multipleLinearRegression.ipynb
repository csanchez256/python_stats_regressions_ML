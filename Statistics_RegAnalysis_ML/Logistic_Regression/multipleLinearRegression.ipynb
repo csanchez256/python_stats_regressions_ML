{
 "cells": [
  {
   "cell_type": "code",
   "execution_count": 5,
   "metadata": {},
   "outputs": [],
   "source": [
    "# Import packages\n",
    "\n",
    "import pandas as pd\n",
    "import seaborn as sns\n",
    "\n",
    "# Load dataset\n",
    "penguins = sns.load_dataset(\"penguins\", cache=False)\n",
    "\n",
    "# Examine first 5 rows of dataset\n",
    "penguins.head()\n",
    "\n",
    "# Data cleaning by specifiying and renaming columns, and dropping rows with missing values.\n",
    "# Subset data (selecting specific portions of the data from a larger dataset).\n",
    "# This allows you to focus on relevant variables. \n",
    "penguins = penguins[[\"body_mass_g\", \"bill_length_mm\", \"sex\", \"species\"]]\n",
    "\n",
    "# rename columns\n",
    "penguins.columns = [\"body_mass_g\", \"bill_length_mm\", \"gender\", \"species\"]\n",
    "\n",
    "# Drop rows with missing values\n",
    "penguins.dropna(inplace=True)\n",
    "\n",
    "# reset index\n",
    "penguins.reset_index(inplace=True, drop=True)\n",
    "\n",
    "# Examine first 5 rows of data\n",
    "penguins.head()\n",
    "\n",
    "\n"
   ]
  }
 ],
 "metadata": {
  "kernelspec": {
   "display_name": "Python 3",
   "language": "python",
   "name": "python3"
  },
  "language_info": {
   "codemirror_mode": {
    "name": "ipython",
    "version": 3
   },
   "file_extension": ".py",
   "mimetype": "text/x-python",
   "name": "python",
   "nbconvert_exporter": "python",
   "pygments_lexer": "ipython3",
   "version": "3.12.3"
  }
 },
 "nbformat": 4,
 "nbformat_minor": 2
}
