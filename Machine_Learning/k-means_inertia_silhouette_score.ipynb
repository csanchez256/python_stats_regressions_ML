{
 "cells": [
  {
   "cell_type": "code",
   "execution_count": 17,
   "metadata": {},
   "outputs": [
    {
     "ename": "SyntaxError",
     "evalue": "cannot assign to literal (3924904878.py, line 49)",
     "output_type": "error",
     "traceback": [
      "\u001b[1;36m  Cell \u001b[1;32mIn[17], line 49\u001b[1;36m\u001b[0m\n\u001b[1;33m    num_clusters = [1 for 1 in range(2,11)]\u001b[0m\n\u001b[1;37m                          ^\u001b[0m\n\u001b[1;31mSyntaxError\u001b[0m\u001b[1;31m:\u001b[0m cannot assign to literal\n"
     ]
    }
   ],
   "source": [
    "# Import Statements\n",
    "\n",
    "# Standard operational packages imports\n",
    "import numpy as np\n",
    "import pandas as pd\n",
    "\n",
    "#===============================================\n",
    "# Important imports for modeling and evaluation\n",
    "#===============================================\n",
    "\n",
    "from sklearn.cluster import KMeans\n",
    "from sklearn.metrics import silhouette_score\n",
    "from sklearn.preprocessing import StandardScaler\n",
    "\n",
    "# (To create synthetic data)\n",
    "from sklearn.datasets import make_blobs\n",
    "\n",
    "# Visualization package import\n",
    "import seaborn as sns\n",
    "\n",
    "\n",
    "# Create random number generator\n",
    "rng = np.random.default_rng(seed=44)\n",
    "\n",
    "\n",
    "# Create synthetic data w/ unknown number of clusters\n",
    "centers = rng.integers(low=3, high=7)\n",
    "x, y = make_blobs(n_samples=1000, n_features=6, centers=centers,random_state=42)\n",
    "\n",
    "# Create Pandas dataframe from the data\n",
    "x = pd.DataFrame(x)\n",
    "\n",
    "x.head()\n",
    "\n",
    "# Scale the data\n",
    "x_scaled = StandardScaler().fit_transform(x)\n",
    "x_scaled[:2,:]\n",
    "\n",
    "# Instantiate model\n",
    "kmeans3 = KMeans(n_clusters=3,random_state=42)\n",
    "\n",
    "# fit model to data\n",
    "kmeans3.fit(x_scaled)\n",
    "\n",
    "print('Clusters: ', kmeans3.labels_)\n",
    "print('Inertia: ', kmeans3.inertia_)\n",
    "\n",
    "# Create a function that fits a K-means model for multiple values of k\n",
    "num_clusters = [1 for 1 in range(2,11)] \n",
    "\n",
    "def kmeans_inertia(num_clusters, x_vals):\n",
    "    inertia = [] \n",
    "    for num in num_clusters:\n",
    "        kms = KMeans(n_clusters=num, random_state=42)\n",
    "        kms.fit(x_vals)\n",
    "        inertia.append(kms.inertia_)\n",
    "\n",
    "        return inertia\n",
    "    \n",
    "# Calculate inertia for k=2-10\n",
    "inertia = kmeans_inertia(num_clusters, x_scaled)\n",
    "inertia\n",
    "\n",
    "# Create an elbow plot\n",
    "plot = sns.lineplot(x=num_clusters, y=inertia)\n",
    "plot.set_xlabel(\"Number of clusters\");\n",
    "plot.set_ylabel(\"Inertia\");\n"
   ]
  }
 ],
 "metadata": {
  "kernelspec": {
   "display_name": "Python 3",
   "language": "python",
   "name": "python3"
  },
  "language_info": {
   "codemirror_mode": {
    "name": "ipython",
    "version": 3
   },
   "file_extension": ".py",
   "mimetype": "text/x-python",
   "name": "python",
   "nbconvert_exporter": "python",
   "pygments_lexer": "ipython3",
   "version": "3.12.3"
  }
 },
 "nbformat": 4,
 "nbformat_minor": 2
}
