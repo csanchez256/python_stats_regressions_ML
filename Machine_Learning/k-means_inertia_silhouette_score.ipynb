{
 "cells": [
  {
   "cell_type": "code",
   "execution_count": null,
   "metadata": {},
   "outputs": [],
   "source": [
    "# Import Statements\n",
    "\n",
    "# Standard operational packages imports\n",
    "import numpy as np\n",
    "import pandas as pd\n",
    "\n",
    "#===============================================\n",
    "# Important imports for modeling and evaluation\n",
    "#===============================================\n",
    "\n",
    "from sklearn.cluster import KMeans\n",
    "from sklearn.metrics import silhouette_score\n",
    "from sklearn.preprocessing import StandardScaler\n",
    "\n",
    "# (To create synthetic data)\n",
    "from sklearn.datasets import make_blobs\n",
    "\n",
    "# Visualization package import\n",
    "import seaborn as sns\n",
    "\n",
    "\n",
    "\n"
   ]
  }
 ],
 "metadata": {
  "language_info": {
   "name": "python"
  }
 },
 "nbformat": 4,
 "nbformat_minor": 2
}
