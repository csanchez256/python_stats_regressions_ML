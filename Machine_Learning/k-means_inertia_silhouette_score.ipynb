{
 "cells": [
  {
   "cell_type": "code",
   "execution_count": 5,
   "metadata": {},
   "outputs": [
    {
     "data": {
      "text/plain": [
       "array([[-0.03173691,  0.4864719 , -1.32178135,  0.59808997,  1.5703227 ,\n",
       "        -0.88951855],\n",
       "       [-1.05006137,  0.68381835,  0.74465777,  1.2564266 , -0.97057774,\n",
       "         1.92995522]])"
      ]
     },
     "execution_count": 5,
     "metadata": {},
     "output_type": "execute_result"
    }
   ],
   "source": [
    "# Import Statements\n",
    "\n",
    "# Standard operational packages imports\n",
    "import numpy as np\n",
    "import pandas as pd\n",
    "\n",
    "#===============================================\n",
    "# Important imports for modeling and evaluation\n",
    "#===============================================\n",
    "\n",
    "from sklearn.cluster import KMeans\n",
    "from sklearn.metrics import silhouette_score\n",
    "from sklearn.preprocessing import StandardScaler\n",
    "\n",
    "# (To create synthetic data)\n",
    "from sklearn.datasets import make_blobs\n",
    "\n",
    "# Visualization package import\n",
    "import seaborn as sns\n",
    "\n",
    "\n",
    "# Create random number generator\n",
    "rng = np.random.default_rng(seed=44)\n",
    "\n",
    "\n",
    "# Create synthetic data w/ unknown number of clusters\n",
    "centers = rng.integers(low=3, high=7)\n",
    "x, y = make_blobs(n_samples=1000, n_features=6, centers=centers,random_state=42)\n",
    "\n",
    "# Create Pandas dataframe from the data\n",
    "x = pd.DataFrame(x)\n",
    "\n",
    "x.head()\n",
    "\n",
    "# Scale the data\n",
    "x_scaled = StandardScaler().fit_transform(x)\n",
    "x_scaled[:2,:]\n",
    "\n",
    "# Instantiate model\n",
    "kmeans3 = KMeans(n_clusters=3,random_state=42)\n",
    "\n",
    "# fit model to data\n",
    "kmeans3.fit(x_scaled)\n",
    "\n",
    "\n"
   ]
  }
 ],
 "metadata": {
  "kernelspec": {
   "display_name": "Python 3",
   "language": "python",
   "name": "python3"
  },
  "language_info": {
   "codemirror_mode": {
    "name": "ipython",
    "version": 3
   },
   "file_extension": ".py",
   "mimetype": "text/x-python",
   "name": "python",
   "nbconvert_exporter": "python",
   "pygments_lexer": "ipython3",
   "version": "3.12.3"
  }
 },
 "nbformat": 4,
 "nbformat_minor": 2
}
